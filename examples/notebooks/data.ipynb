{
 "cells": [
  {
   "cell_type": "code",
   "execution_count": 1,
   "metadata": {},
   "outputs": [],
   "source": [
    "import torch\n",
    "\n",
    "from pathlib import Path\n",
    "from rona.data import RonaData\n",
    "from torchvision import transforms\n",
    "from torch.utils.data import (\n",
    "    Dataset, DataLoader, random_split\n",
    ")"
   ]
  },
  {
   "cell_type": "code",
   "execution_count": 2,
   "metadata": {},
   "outputs": [
    {
     "name": "stdout",
     "output_type": "stream",
     "text": [
      "\u001b[1m\u001b[36mCOVID\u001b[m\u001b[m     \u001b[1m\u001b[36mnon-COVID\u001b[m\u001b[m\r\n"
     ]
    }
   ],
   "source": [
    "!ls /Users/ygx/data/utkml/utkML_projects/covid_ct_scans/ct_data"
   ]
  },
  {
   "cell_type": "code",
   "execution_count": 3,
   "metadata": {},
   "outputs": [],
   "source": [
    "dataroot = Path(\"/Users/ygx/data/utkml/utkML_projects/covid_ct_scans/ct_data\")"
   ]
  },
  {
   "cell_type": "code",
   "execution_count": 4,
   "metadata": {},
   "outputs": [],
   "source": [
    "data_transforms = transforms.Compose([\n",
    "    transforms.Resize((100, 100)),\n",
    "    transforms.RandomHorizontalFlip(),\n",
    "    transforms.ToTensor(),\n",
    "])"
   ]
  },
  {
   "cell_type": "code",
   "execution_count": 5,
   "metadata": {},
   "outputs": [],
   "source": [
    "dataset = RonaData(dataroot, data_transforms)"
   ]
  },
  {
   "cell_type": "code",
   "execution_count": 6,
   "metadata": {},
   "outputs": [],
   "source": [
    "num_train = len(dataset) // (1/(3/4))\n",
    "num_valid = len(dataset) - num_train\n",
    "\n",
    "train_data, valid_data = random_split(\n",
    "    dataset, [int(num_train), int(num_valid)]\n",
    ")"
   ]
  },
  {
   "cell_type": "code",
   "execution_count": 7,
   "metadata": {},
   "outputs": [],
   "source": [
    "data_loader = DataLoader(train_data, batch_size=5)"
   ]
  },
  {
   "cell_type": "code",
   "execution_count": 8,
   "metadata": {},
   "outputs": [
    {
     "name": "stdout",
     "output_type": "stream",
     "text": [
      "data: torch.Size([5, 1, 100, 100]), target: torch.Size([5])\n",
      "data: torch.Size([5, 1, 100, 100]), target: torch.Size([5])\n",
      "data: torch.Size([5, 1, 100, 100]), target: torch.Size([5])\n",
      "data: torch.Size([5, 1, 100, 100]), target: torch.Size([5])\n",
      "data: torch.Size([5, 1, 100, 100]), target: torch.Size([5])\n"
     ]
    }
   ],
   "source": [
    "for idx, (data, target) in enumerate(data_loader):\n",
    "    print(f\"data: {data.shape}, target: {target.shape}\")\n",
    "    if idx == 4:\n",
    "        break"
   ]
  },
  {
   "cell_type": "code",
   "execution_count": 9,
   "metadata": {},
   "outputs": [],
   "source": [
    "stds = []\n",
    "means = []\n",
    "for img, _ in dataset:\n",
    "    means.append(torch.mean(img))\n",
    "    stds.append(torch.std(img))\n",
    "\n",
    "mean = torch.mean(torch.tensor(means))\n",
    "std = torch.mean(torch.tensor(stds))"
   ]
  },
  {
   "cell_type": "code",
   "execution_count": 10,
   "metadata": {},
   "outputs": [
    {
     "data": {
      "text/plain": [
       "tensor(0.6405)"
      ]
     },
     "execution_count": 10,
     "metadata": {},
     "output_type": "execute_result"
    }
   ],
   "source": [
    "mean"
   ]
  },
  {
   "cell_type": "code",
   "execution_count": 11,
   "metadata": {},
   "outputs": [
    {
     "data": {
      "text/plain": [
       "tensor(0.2562)"
      ]
     },
     "execution_count": 11,
     "metadata": {},
     "output_type": "execute_result"
    }
   ],
   "source": [
    "std"
   ]
  }
 ],
 "metadata": {
  "kernelspec": {
   "display_name": "Python 3",
   "language": "python",
   "name": "python3"
  },
  "language_info": {
   "codemirror_mode": {
    "name": "ipython",
    "version": 3
   },
   "file_extension": ".py",
   "mimetype": "text/x-python",
   "name": "python",
   "nbconvert_exporter": "python",
   "pygments_lexer": "ipython3",
   "version": "3.8.3"
  }
 },
 "nbformat": 4,
 "nbformat_minor": 4
}
