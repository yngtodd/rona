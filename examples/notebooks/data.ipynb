{
 "cells": [
  {
   "cell_type": "code",
   "execution_count": 18,
   "metadata": {},
   "outputs": [],
   "source": [
    "import random\n",
    "from typing import List\n",
    "from pathlib import Path\n",
    "from collections import namedtuple  \n",
    "\n",
    "from PIL import Image\n",
    "from torchvision import transforms\n",
    "from torch.utils.data import Dataset, DataLoader"
   ]
  },
  {
   "cell_type": "code",
   "execution_count": 24,
   "metadata": {},
   "outputs": [
    {
     "name": "stdout",
     "output_type": "stream",
     "text": [
      "\u001b[1m\u001b[36mCOVID\u001b[m\u001b[m     \u001b[1m\u001b[36mnon-COVID\u001b[m\u001b[m\r\n"
     ]
    }
   ],
   "source": [
    "!ls /Users/ygx/data/utkml/utkML_projects/covid_ct_scans/ct_data"
   ]
  },
  {
   "cell_type": "code",
   "execution_count": 6,
   "metadata": {},
   "outputs": [],
   "source": [
    "dataroot = Path(\"/Users/ygx/data/utkml/utkML_projects/covid_ct_scans/ct_data\")"
   ]
  },
  {
   "cell_type": "code",
   "execution_count": 98,
   "metadata": {},
   "outputs": [],
   "source": [
    "data_transforms = transforms.Compose([\n",
    "    transforms.Resize((100, 100)),\n",
    "    transforms.RandomHorizontalFlip(),\n",
    "    transforms.ToTensor(),\n",
    "])"
   ]
  },
  {
   "cell_type": "code",
   "execution_count": 111,
   "metadata": {},
   "outputs": [],
   "source": [
    "import random\n",
    "from typing import List\n",
    "from pathlib import Path\n",
    "from collections import namedtuple  \n",
    "\n",
    "\n",
    "MetaData = namedtuple('MetaData', ['path', 'label'])   \n",
    "\n",
    "\n",
    "class RonaData(Dataset):\n",
    "    \"\"\"Coronavirus CT data\n",
    "    \n",
    "    Loads the raw images from the UTKML competition.\n",
    "    Note that the images have varying sizes, and so\n",
    "    we must use `torchvision.transforms` to resize \n",
    "    them, otherwise you will get an error when you \n",
    "    attempt to stack the tensors in a batch. \n",
    "    \n",
    "    Examples::\n",
    "        transforms = transforms.Compose([\n",
    "            transforms.Resize((100, 100)),\n",
    "            transforms.RandomHorizontalFlip(),\n",
    "            transforms.ToTensor(),\n",
    "        ])\n",
    "        \n",
    "        data = RonaData(<path>, transforms)\n",
    "    \"\"\"\n",
    "    \n",
    "    def __init__(self, root: str, transform=None):\n",
    "        self.root = root\n",
    "        self.transform = transform\n",
    "        self.meta = self.load_meta()\n",
    "        \n",
    "    def __repr__(self):\n",
    "        return f\"RonaData(root={self.root})\"\n",
    "    \n",
    "    def __len__(self):\n",
    "        return len(self.meta)\n",
    "        \n",
    "    def read_img(self, path):\n",
    "        \"\"\"Read in an image\"\"\"\n",
    "        with open(path, 'rb') as f:\n",
    "            img = Image.open(f)\n",
    "            return img.convert(\"L\")\n",
    "        \n",
    "    def load_meta(self) -> List[MetaData]:\n",
    "        \"\"\"Load metadata\n",
    "        \n",
    "        We want to keep track of the paths for each\n",
    "        of our samples along with their labels. This\n",
    "        is stored as a list of `MetaData`, a named tuple\n",
    "        that stores each sample's path and its label.\n",
    "        \"\"\"\n",
    "        root = Path(self.root)\n",
    "        rona = root.joinpath(\"COVID\").glob(\"**/*.png\")\n",
    "        safe = root.joinpath(\"non-COVID\").glob(\"**/*.png\")\n",
    "        \n",
    "        samples = []\n",
    "        for path in rona:\n",
    "            samples.append(\n",
    "                MetaData(path, label=1)\n",
    "            )\n",
    "        \n",
    "        for path in safe:\n",
    "            samples.append(\n",
    "                MetaData(path, label=0)\n",
    "            )\n",
    "            \n",
    "        random.shuffle(samples)\n",
    "            \n",
    "        return samples\n",
    "    \n",
    "    def __getitem__(self, idx: int):\n",
    "        path, target = self.meta[idx]\n",
    "        \n",
    "        sample = self.read_img(path)\n",
    "        \n",
    "        if self.transform is not None:\n",
    "            sample = self.transform(sample)\n",
    "\n",
    "        return sample, target"
   ]
  },
  {
   "cell_type": "code",
   "execution_count": 112,
   "metadata": {},
   "outputs": [],
   "source": [
    "data = RonaData(dataroot, data_transforms)"
   ]
  },
  {
   "cell_type": "code",
   "execution_count": 113,
   "metadata": {},
   "outputs": [
    {
     "data": {
      "text/plain": [
       "1986"
      ]
     },
     "execution_count": 113,
     "metadata": {},
     "output_type": "execute_result"
    }
   ],
   "source": [
    "len(data.meta)"
   ]
  },
  {
   "cell_type": "code",
   "execution_count": 116,
   "metadata": {},
   "outputs": [],
   "source": [
    "l = DataLoader(data, batch_size=5)"
   ]
  },
  {
   "cell_type": "code",
   "execution_count": 118,
   "metadata": {},
   "outputs": [
    {
     "data": {
      "text/plain": [
       "tensor([0, 1, 0, 1, 1])"
      ]
     },
     "execution_count": 118,
     "metadata": {},
     "output_type": "execute_result"
    }
   ],
   "source": [
    "next(iter(l))[1]"
   ]
  },
  {
   "cell_type": "code",
   "execution_count": null,
   "metadata": {},
   "outputs": [],
   "source": []
  }
 ],
 "metadata": {
  "kernelspec": {
   "display_name": "Python 3",
   "language": "python",
   "name": "python3"
  },
  "language_info": {
   "codemirror_mode": {
    "name": "ipython",
    "version": 3
   },
   "file_extension": ".py",
   "mimetype": "text/x-python",
   "name": "python",
   "nbconvert_exporter": "python",
   "pygments_lexer": "ipython3",
   "version": "3.8.3"
  }
 },
 "nbformat": 4,
 "nbformat_minor": 4
}
